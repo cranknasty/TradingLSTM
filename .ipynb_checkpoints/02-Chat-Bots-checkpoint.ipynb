{
 "cells": [
  {
   "cell_type": "markdown",
   "metadata": {},
   "source": [
    "___\n",
    "\n",
    "<a href='http://www.pieriandata.com'> <img src='../Pierian_Data_Logo.png' /></a>\n",
    "___\n",
    "# Question and Answer Chat Bots"
   ]
  },
  {
   "cell_type": "markdown",
   "metadata": {},
   "source": [
    "----\n",
    "\n",
    "------"
   ]
  },
  {
   "cell_type": "markdown",
   "metadata": {},
   "source": [
    "## Loading the Data\n",
    "\n",
    "We will be working with the Babi Data Set from Facebook Research.\n",
    "\n",
    "Full Details: https://research.fb.com/downloads/babi/\n",
    "\n",
    "- Jason Weston, Antoine Bordes, Sumit Chopra, Tomas Mikolov, Alexander M. Rush,\n",
    "  \"Towards AI-Complete Question Answering: A Set of Prerequisite Toy Tasks\",\n",
    "  http://arxiv.org/abs/1502.05698\n"
   ]
  },
  {
   "cell_type": "code",
   "execution_count": 54,
   "metadata": {},
   "outputs": [],
   "source": [
    "import pickle\n",
    "import numpy as np"
   ]
  },
  {
   "cell_type": "code",
   "execution_count": 55,
   "metadata": {},
   "outputs": [],
   "source": [
    "with open(\"train_qa.txt\", \"rb\") as fp:   # Unpickling\n",
    "    train_data =  pickle.load(fp)"
   ]
  },
  {
   "cell_type": "code",
   "execution_count": 56,
   "metadata": {},
   "outputs": [],
   "source": [
    "with open(\"test_qa.txt\", \"rb\") as fp:   # Unpickling\n",
    "    test_data =  pickle.load(fp)"
   ]
  },
  {
   "cell_type": "markdown",
   "metadata": {},
   "source": [
    "----"
   ]
  },
  {
   "cell_type": "markdown",
   "metadata": {},
   "source": [
    "## Exploring the Format of the Data"
   ]
  },
  {
   "cell_type": "code",
   "execution_count": 57,
   "metadata": {},
   "outputs": [
    {
     "data": {
      "text/plain": [
       "list"
      ]
     },
     "execution_count": 57,
     "metadata": {},
     "output_type": "execute_result"
    }
   ],
   "source": [
    "type(test_data)"
   ]
  },
  {
   "cell_type": "code",
   "execution_count": 58,
   "metadata": {},
   "outputs": [
    {
     "data": {
      "text/plain": [
       "list"
      ]
     },
     "execution_count": 58,
     "metadata": {},
     "output_type": "execute_result"
    }
   ],
   "source": [
    "type(train_data)"
   ]
  },
  {
   "cell_type": "code",
   "execution_count": 59,
   "metadata": {},
   "outputs": [
    {
     "data": {
      "text/plain": [
       "1000"
      ]
     },
     "execution_count": 59,
     "metadata": {},
     "output_type": "execute_result"
    }
   ],
   "source": [
    "len(test_data)"
   ]
  },
  {
   "cell_type": "code",
   "execution_count": 60,
   "metadata": {},
   "outputs": [
    {
     "data": {
      "text/plain": [
       "10000"
      ]
     },
     "execution_count": 60,
     "metadata": {},
     "output_type": "execute_result"
    }
   ],
   "source": [
    "len(train_data)"
   ]
  },
  {
   "cell_type": "code",
   "execution_count": 61,
   "metadata": {},
   "outputs": [
    {
     "data": {
      "text/plain": [
       "(['Mary',\n",
       "  'moved',\n",
       "  'to',\n",
       "  'the',\n",
       "  'bathroom',\n",
       "  '.',\n",
       "  'Sandra',\n",
       "  'journeyed',\n",
       "  'to',\n",
       "  'the',\n",
       "  'bedroom',\n",
       "  '.'],\n",
       " ['Is', 'Sandra', 'in', 'the', 'hallway', '?'],\n",
       " 'no')"
      ]
     },
     "execution_count": 61,
     "metadata": {},
     "output_type": "execute_result"
    }
   ],
   "source": [
    "train_data[0]"
   ]
  },
  {
   "cell_type": "code",
   "execution_count": 62,
   "metadata": {},
   "outputs": [
    {
     "data": {
      "text/plain": [
       "'Mary moved to the bathroom . Sandra journeyed to the bedroom .'"
      ]
     },
     "execution_count": 62,
     "metadata": {},
     "output_type": "execute_result"
    }
   ],
   "source": [
    "' '.join(train_data[0][0])"
   ]
  },
  {
   "cell_type": "code",
   "execution_count": 63,
   "metadata": {},
   "outputs": [
    {
     "data": {
      "text/plain": [
       "'Is Sandra in the hallway ?'"
      ]
     },
     "execution_count": 63,
     "metadata": {},
     "output_type": "execute_result"
    }
   ],
   "source": [
    "' '.join(train_data[0][1])"
   ]
  },
  {
   "cell_type": "code",
   "execution_count": 64,
   "metadata": {},
   "outputs": [
    {
     "data": {
      "text/plain": [
       "'no'"
      ]
     },
     "execution_count": 64,
     "metadata": {},
     "output_type": "execute_result"
    }
   ],
   "source": [
    "train_data[0][2]"
   ]
  },
  {
   "cell_type": "markdown",
   "metadata": {},
   "source": [
    "-----\n",
    "\n",
    "## Setting up Vocabulary of All Words"
   ]
  },
  {
   "cell_type": "code",
   "execution_count": 65,
   "metadata": {},
   "outputs": [],
   "source": [
    "# Create a set that holds the vocab words\n",
    "vocab = set()"
   ]
  },
  {
   "cell_type": "code",
   "execution_count": 66,
   "metadata": {},
   "outputs": [],
   "source": [
    "all_data = test_data + train_data"
   ]
  },
  {
   "cell_type": "code",
   "execution_count": 67,
   "metadata": {},
   "outputs": [],
   "source": [
    "for story, question , answer in all_data:\n",
    "    # In case you don't know what a union of sets is:\n",
    "    # https://www.programiz.com/python-programming/methods/set/union\n",
    "    vocab = vocab.union(set(story))\n",
    "    vocab = vocab.union(set(question))"
   ]
  },
  {
   "cell_type": "code",
   "execution_count": 68,
   "metadata": {},
   "outputs": [],
   "source": [
    "vocab.add('no')\n",
    "vocab.add('yes')"
   ]
  },
  {
   "cell_type": "code",
   "execution_count": 69,
   "metadata": {},
   "outputs": [
    {
     "data": {
      "text/plain": [
       "{'.',\n",
       " '?',\n",
       " 'Daniel',\n",
       " 'Is',\n",
       " 'John',\n",
       " 'Mary',\n",
       " 'Sandra',\n",
       " 'apple',\n",
       " 'back',\n",
       " 'bathroom',\n",
       " 'bedroom',\n",
       " 'discarded',\n",
       " 'down',\n",
       " 'dropped',\n",
       " 'football',\n",
       " 'garden',\n",
       " 'got',\n",
       " 'grabbed',\n",
       " 'hallway',\n",
       " 'in',\n",
       " 'journeyed',\n",
       " 'kitchen',\n",
       " 'left',\n",
       " 'milk',\n",
       " 'moved',\n",
       " 'no',\n",
       " 'office',\n",
       " 'picked',\n",
       " 'put',\n",
       " 'the',\n",
       " 'there',\n",
       " 'to',\n",
       " 'took',\n",
       " 'travelled',\n",
       " 'up',\n",
       " 'went',\n",
       " 'yes'}"
      ]
     },
     "execution_count": 69,
     "metadata": {},
     "output_type": "execute_result"
    }
   ],
   "source": [
    "vocab"
   ]
  },
  {
   "cell_type": "code",
   "execution_count": 70,
   "metadata": {},
   "outputs": [],
   "source": [
    "vocab_len = len(vocab) + 1 #we add an extra space to hold a 0 for Keras's pad_sequences"
   ]
  },
  {
   "cell_type": "code",
   "execution_count": 71,
   "metadata": {},
   "outputs": [],
   "source": [
    "max_story_len = max([len(data[0]) for data in all_data])"
   ]
  },
  {
   "cell_type": "code",
   "execution_count": 72,
   "metadata": {},
   "outputs": [
    {
     "data": {
      "text/plain": [
       "156"
      ]
     },
     "execution_count": 72,
     "metadata": {},
     "output_type": "execute_result"
    }
   ],
   "source": [
    "max_story_len"
   ]
  },
  {
   "cell_type": "code",
   "execution_count": 73,
   "metadata": {},
   "outputs": [],
   "source": [
    "max_question_len = max([len(data[1]) for data in all_data])"
   ]
  },
  {
   "cell_type": "code",
   "execution_count": 74,
   "metadata": {},
   "outputs": [
    {
     "data": {
      "text/plain": [
       "6"
      ]
     },
     "execution_count": 74,
     "metadata": {},
     "output_type": "execute_result"
    }
   ],
   "source": [
    "max_question_len"
   ]
  },
  {
   "cell_type": "markdown",
   "metadata": {},
   "source": [
    "## Vectorizing the Data"
   ]
  },
  {
   "cell_type": "code",
   "execution_count": 75,
   "metadata": {},
   "outputs": [
    {
     "data": {
      "text/plain": [
       "{'.',\n",
       " '?',\n",
       " 'Daniel',\n",
       " 'Is',\n",
       " 'John',\n",
       " 'Mary',\n",
       " 'Sandra',\n",
       " 'apple',\n",
       " 'back',\n",
       " 'bathroom',\n",
       " 'bedroom',\n",
       " 'discarded',\n",
       " 'down',\n",
       " 'dropped',\n",
       " 'football',\n",
       " 'garden',\n",
       " 'got',\n",
       " 'grabbed',\n",
       " 'hallway',\n",
       " 'in',\n",
       " 'journeyed',\n",
       " 'kitchen',\n",
       " 'left',\n",
       " 'milk',\n",
       " 'moved',\n",
       " 'no',\n",
       " 'office',\n",
       " 'picked',\n",
       " 'put',\n",
       " 'the',\n",
       " 'there',\n",
       " 'to',\n",
       " 'took',\n",
       " 'travelled',\n",
       " 'up',\n",
       " 'went',\n",
       " 'yes'}"
      ]
     },
     "execution_count": 75,
     "metadata": {},
     "output_type": "execute_result"
    }
   ],
   "source": [
    "vocab"
   ]
  },
  {
   "cell_type": "code",
   "execution_count": 76,
   "metadata": {},
   "outputs": [],
   "source": [
    "# Reserve 0 for pad_sequences\n",
    "vocab_size = len(vocab) + 1"
   ]
  },
  {
   "cell_type": "markdown",
   "metadata": {},
   "source": [
    "-----------"
   ]
  },
  {
   "cell_type": "code",
   "execution_count": 77,
   "metadata": {},
   "outputs": [],
   "source": [
    "from keras.preprocessing.sequence import pad_sequences\n",
    "from keras.preprocessing.text import Tokenizer"
   ]
  },
  {
   "cell_type": "code",
   "execution_count": 78,
   "metadata": {},
   "outputs": [],
   "source": [
    "# integer encode sequences of words\n",
    "tokenizer = Tokenizer(filters=[])\n",
    "tokenizer.fit_on_texts(vocab)"
   ]
  },
  {
   "cell_type": "code",
   "execution_count": 79,
   "metadata": {},
   "outputs": [
    {
     "data": {
      "text/plain": [
       "{'is': 1,\n",
       " 'went': 2,\n",
       " 'travelled': 3,\n",
       " 'moved': 4,\n",
       " 'football': 5,\n",
       " 'got': 6,\n",
       " 'daniel': 7,\n",
       " 'in': 8,\n",
       " 'there': 9,\n",
       " 'no': 10,\n",
       " 'journeyed': 11,\n",
       " 'discarded': 12,\n",
       " 'garden': 13,\n",
       " 'bathroom': 14,\n",
       " 'apple': 15,\n",
       " 'john': 16,\n",
       " 'picked': 17,\n",
       " 'down': 18,\n",
       " 'grabbed': 19,\n",
       " 'dropped': 20,\n",
       " 'yes': 21,\n",
       " 'left': 22,\n",
       " '.': 23,\n",
       " 'sandra': 24,\n",
       " 'back': 25,\n",
       " 'took': 26,\n",
       " '?': 27,\n",
       " 'up': 28,\n",
       " 'milk': 29,\n",
       " 'put': 30,\n",
       " 'mary': 31,\n",
       " 'office': 32,\n",
       " 'hallway': 33,\n",
       " 'the': 34,\n",
       " 'kitchen': 35,\n",
       " 'to': 36,\n",
       " 'bedroom': 37}"
      ]
     },
     "execution_count": 79,
     "metadata": {},
     "output_type": "execute_result"
    }
   ],
   "source": [
    "tokenizer.word_index"
   ]
  },
  {
   "cell_type": "code",
   "execution_count": 80,
   "metadata": {},
   "outputs": [],
   "source": [
    "train_story_text = []\n",
    "train_question_text = []\n",
    "train_answers = []\n",
    "\n",
    "for story,question,answer in train_data:\n",
    "    train_story_text.append(story)\n",
    "    train_question_text.append(question)"
   ]
  },
  {
   "cell_type": "code",
   "execution_count": 81,
   "metadata": {},
   "outputs": [],
   "source": [
    "train_story_seq = tokenizer.texts_to_sequences(train_story_text)"
   ]
  },
  {
   "cell_type": "code",
   "execution_count": 82,
   "metadata": {},
   "outputs": [
    {
     "data": {
      "text/plain": [
       "10000"
      ]
     },
     "execution_count": 82,
     "metadata": {},
     "output_type": "execute_result"
    }
   ],
   "source": [
    "len(train_story_text)"
   ]
  },
  {
   "cell_type": "code",
   "execution_count": 83,
   "metadata": {},
   "outputs": [
    {
     "data": {
      "text/plain": [
       "10000"
      ]
     },
     "execution_count": 83,
     "metadata": {},
     "output_type": "execute_result"
    }
   ],
   "source": [
    "len(train_story_seq)"
   ]
  },
  {
   "cell_type": "code",
   "execution_count": 84,
   "metadata": {},
   "outputs": [],
   "source": [
    "# word_index = tokenizer.word_index"
   ]
  },
  {
   "cell_type": "markdown",
   "metadata": {},
   "source": [
    "### Functionalize Vectorization"
   ]
  },
  {
   "cell_type": "code",
   "execution_count": 85,
   "metadata": {},
   "outputs": [],
   "source": [
    "def vectorize_stories(data, word_index=tokenizer.word_index, max_story_len=max_story_len,max_question_len=max_question_len):\n",
    "    '''\n",
    "    INPUT: \n",
    "    \n",
    "    data: consisting of Stories,Queries,and Answers\n",
    "    word_index: word index dictionary from tokenizer\n",
    "    max_story_len: the length of the longest story (used for pad_sequences function)\n",
    "    max_question_len: length of the longest question (used for pad_sequences function)\n",
    "\n",
    "\n",
    "    OUTPUT:\n",
    "    \n",
    "    Vectorizes the stories,questions, and answers into padded sequences. We first loop for every story, query , and\n",
    "    answer in the data. Then we convert the raw words to an word index value. Then we append each set to their appropriate\n",
    "    output list. Then once we have converted the words to numbers, we pad the sequences so they are all of equal length.\n",
    "    \n",
    "    Returns this in the form of a tuple (X,Xq,Y) (padded based on max lengths)\n",
    "    '''\n",
    "    \n",
    "    \n",
    "    # X = STORIES\n",
    "    X = []\n",
    "    # Xq = QUERY/QUESTION\n",
    "    Xq = []\n",
    "    # Y = CORRECT ANSWER\n",
    "    Y = []\n",
    "    \n",
    "    \n",
    "    for story, query, answer in data:\n",
    "        \n",
    "        # Grab the word index for every word in story\n",
    "        x = [word_index[word.lower()] for word in story]\n",
    "        # Grab the word index for every word in query\n",
    "        xq = [word_index[word.lower()] for word in query]\n",
    "        \n",
    "        # Grab the Answers (either Yes/No so we don't need to use list comprehension here)\n",
    "        # Index 0 is reserved so we're going to use + 1\n",
    "        y = np.zeros(len(word_index) + 1)\n",
    "        \n",
    "        # Now that y is all zeros and we know its just Yes/No , we can use numpy logic to create this assignment\n",
    "        #\n",
    "        y[word_index[answer]] = 1\n",
    "        \n",
    "        # Append each set of story,query, and answer to their respective holding lists\n",
    "        X.append(x)\n",
    "        Xq.append(xq)\n",
    "        Y.append(y)\n",
    "        \n",
    "    # Finally, pad the sequences based on their max length so the RNN can be trained on uniformly long sequences.\n",
    "        \n",
    "    # RETURN TUPLE FOR UNPACKING\n",
    "    return (pad_sequences(X, maxlen=max_story_len),pad_sequences(Xq, maxlen=max_question_len), np.array(Y))"
   ]
  },
  {
   "cell_type": "code",
   "execution_count": 86,
   "metadata": {},
   "outputs": [],
   "source": [
    "inputs_train, queries_train, answers_train = vectorize_stories(train_data)"
   ]
  },
  {
   "cell_type": "code",
   "execution_count": 87,
   "metadata": {},
   "outputs": [],
   "source": [
    "inputs_test, queries_test, answers_test = vectorize_stories(test_data)"
   ]
  },
  {
   "cell_type": "code",
   "execution_count": 88,
   "metadata": {},
   "outputs": [
    {
     "data": {
      "text/plain": [
       "array([[ 0,  0,  0, ..., 34, 37, 23],\n",
       "       [ 0,  0,  0, ..., 34, 13, 23],\n",
       "       [ 0,  0,  0, ..., 34, 13, 23],\n",
       "       ...,\n",
       "       [ 0,  0,  0, ..., 34, 15, 23],\n",
       "       [ 0,  0,  0, ..., 34, 13, 23],\n",
       "       [ 0,  0,  0, ..., 15,  9, 23]])"
      ]
     },
     "execution_count": 88,
     "metadata": {},
     "output_type": "execute_result"
    }
   ],
   "source": [
    "inputs_test"
   ]
  },
  {
   "cell_type": "code",
   "execution_count": 89,
   "metadata": {},
   "outputs": [
    {
     "data": {
      "text/plain": [
       "array([[ 1, 16,  8, 34, 35, 27],\n",
       "       [ 1, 16,  8, 34, 35, 27],\n",
       "       [ 1, 16,  8, 34, 13, 27],\n",
       "       ...,\n",
       "       [ 1, 31,  8, 34, 37, 27],\n",
       "       [ 1, 24,  8, 34, 13, 27],\n",
       "       [ 1, 31,  8, 34, 13, 27]])"
      ]
     },
     "execution_count": 89,
     "metadata": {},
     "output_type": "execute_result"
    }
   ],
   "source": [
    "queries_test"
   ]
  },
  {
   "cell_type": "code",
   "execution_count": 90,
   "metadata": {},
   "outputs": [
    {
     "data": {
      "text/plain": [
       "array([[0., 0., 0., ..., 0., 0., 0.],\n",
       "       [0., 0., 0., ..., 0., 0., 0.],\n",
       "       [0., 0., 0., ..., 0., 0., 0.],\n",
       "       ...,\n",
       "       [0., 0., 0., ..., 0., 0., 0.],\n",
       "       [0., 0., 0., ..., 0., 0., 0.],\n",
       "       [0., 0., 0., ..., 0., 0., 0.]])"
      ]
     },
     "execution_count": 90,
     "metadata": {},
     "output_type": "execute_result"
    }
   ],
   "source": [
    "answers_test"
   ]
  },
  {
   "cell_type": "code",
   "execution_count": 91,
   "metadata": {},
   "outputs": [
    {
     "data": {
      "text/plain": [
       "array([  0.,   0.,   0.,   0.,   0.,   0.,   0.,   0.,   0.,   0., 503.,\n",
       "         0.,   0.,   0.,   0.,   0.,   0.,   0.,   0.,   0.,   0., 497.,\n",
       "         0.,   0.,   0.,   0.,   0.,   0.,   0.,   0.,   0.,   0.,   0.,\n",
       "         0.,   0.,   0.,   0.,   0.])"
      ]
     },
     "execution_count": 91,
     "metadata": {},
     "output_type": "execute_result"
    }
   ],
   "source": [
    "sum(answers_test)"
   ]
  },
  {
   "cell_type": "code",
   "execution_count": 92,
   "metadata": {},
   "outputs": [
    {
     "data": {
      "text/plain": [
       "21"
      ]
     },
     "execution_count": 92,
     "metadata": {},
     "output_type": "execute_result"
    }
   ],
   "source": [
    "tokenizer.word_index['yes']"
   ]
  },
  {
   "cell_type": "code",
   "execution_count": 93,
   "metadata": {},
   "outputs": [
    {
     "data": {
      "text/plain": [
       "10"
      ]
     },
     "execution_count": 93,
     "metadata": {},
     "output_type": "execute_result"
    }
   ],
   "source": [
    "tokenizer.word_index['no']"
   ]
  },
  {
   "cell_type": "markdown",
   "metadata": {},
   "source": [
    "## Creating the Model"
   ]
  },
  {
   "cell_type": "code",
   "execution_count": 94,
   "metadata": {},
   "outputs": [],
   "source": [
    "from keras.models import Sequential, Model\n",
    "from keras.layers.embeddings import Embedding\n",
    "from keras.layers import Input, Activation, Dense, Permute, Dropout\n",
    "from keras.layers import add, dot, concatenate\n",
    "from keras.layers import LSTM"
   ]
  },
  {
   "cell_type": "markdown",
   "metadata": {},
   "source": [
    "### Placeholders for Inputs\n",
    "\n",
    "Recall we technically have two inputs, stories and questions. So we need to use placeholders. `Input()` is used to instantiate a Keras tensor.\n"
   ]
  },
  {
   "cell_type": "code",
   "execution_count": 95,
   "metadata": {},
   "outputs": [],
   "source": [
    "input_sequence = Input((max_story_len,))\n",
    "question = Input((max_question_len,))"
   ]
  },
  {
   "cell_type": "markdown",
   "metadata": {
    "collapsed": true
   },
   "source": [
    "### Building the Networks\n",
    "\n",
    "To understand why we chose this setup, make sure to read the paper we are using:\n",
    "\n",
    "* Sainbayar Sukhbaatar, Arthur Szlam, Jason Weston, Rob Fergus,\n",
    "  \"End-To-End Memory Networks\",\n",
    "  http://arxiv.org/abs/1503.08895"
   ]
  },
  {
   "cell_type": "markdown",
   "metadata": {},
   "source": [
    "## Encoders\n",
    "\n",
    "### Input Encoder m"
   ]
  },
  {
   "cell_type": "code",
   "execution_count": 96,
   "metadata": {},
   "outputs": [],
   "source": [
    "# Input gets embedded to a sequence of vectors\n",
    "input_encoder_m = Sequential()\n",
    "input_encoder_m.add(Embedding(input_dim=vocab_size,output_dim=64))\n",
    "input_encoder_m.add(Dropout(0.3))\n",
    "\n",
    "# This encoder will output:\n",
    "# (samples, story_maxlen, embedding_dim)"
   ]
  },
  {
   "cell_type": "markdown",
   "metadata": {},
   "source": [
    "### Input Encoder c"
   ]
  },
  {
   "cell_type": "code",
   "execution_count": 97,
   "metadata": {},
   "outputs": [],
   "source": [
    "# embed the input into a sequence of vectors of size query_maxlen\n",
    "input_encoder_c = Sequential()\n",
    "input_encoder_c.add(Embedding(input_dim=vocab_size,output_dim=max_question_len))\n",
    "input_encoder_c.add(Dropout(0.3))\n",
    "# output: (samples, story_maxlen, query_maxlen)"
   ]
  },
  {
   "cell_type": "markdown",
   "metadata": {},
   "source": [
    "### Question Encoder"
   ]
  },
  {
   "cell_type": "code",
   "execution_count": 98,
   "metadata": {},
   "outputs": [],
   "source": [
    "# embed the question into a sequence of vectors\n",
    "question_encoder = Sequential()\n",
    "question_encoder.add(Embedding(input_dim=vocab_size,\n",
    "                               output_dim=64,\n",
    "                               input_length=max_question_len))\n",
    "question_encoder.add(Dropout(0.3))\n",
    "# output: (samples, query_maxlen, embedding_dim)"
   ]
  },
  {
   "cell_type": "markdown",
   "metadata": {},
   "source": [
    "### Encode the Sequences"
   ]
  },
  {
   "cell_type": "code",
   "execution_count": 99,
   "metadata": {},
   "outputs": [],
   "source": [
    "# encode input sequence and questions (which are indices)\n",
    "# to sequences of dense vectors\n",
    "input_encoded_m = input_encoder_m(input_sequence)\n",
    "input_encoded_c = input_encoder_c(input_sequence)\n",
    "question_encoded = question_encoder(question)"
   ]
  },
  {
   "cell_type": "markdown",
   "metadata": {},
   "source": [
    "##### Use dot product to compute the match between first input vector seq and the query"
   ]
  },
  {
   "cell_type": "code",
   "execution_count": 100,
   "metadata": {},
   "outputs": [],
   "source": [
    "# shape: `(samples, story_maxlen, query_maxlen)`\n",
    "match = dot([input_encoded_m, question_encoded], axes=(2, 2))\n",
    "match = Activation('softmax')(match)"
   ]
  },
  {
   "cell_type": "markdown",
   "metadata": {},
   "source": [
    "#### Add this match matrix with the second input vector sequence"
   ]
  },
  {
   "cell_type": "code",
   "execution_count": 101,
   "metadata": {},
   "outputs": [],
   "source": [
    "# add the match matrix with the second input vector sequence\n",
    "response = add([match, input_encoded_c])  # (samples, story_maxlen, query_maxlen)\n",
    "response = Permute((2, 1))(response)  # (samples, query_maxlen, story_maxlen)"
   ]
  },
  {
   "cell_type": "markdown",
   "metadata": {},
   "source": [
    "#### Concatenate"
   ]
  },
  {
   "cell_type": "code",
   "execution_count": 102,
   "metadata": {},
   "outputs": [],
   "source": [
    "# concatenate the match matrix with the question vector sequence\n",
    "answer = concatenate([response, question_encoded])"
   ]
  },
  {
   "cell_type": "code",
   "execution_count": 103,
   "metadata": {},
   "outputs": [
    {
     "data": {
      "text/plain": [
       "<tf.Tensor 'concatenate_2/concat:0' shape=(?, 6, 220) dtype=float32>"
      ]
     },
     "execution_count": 103,
     "metadata": {},
     "output_type": "execute_result"
    }
   ],
   "source": [
    "answer"
   ]
  },
  {
   "cell_type": "code",
   "execution_count": 104,
   "metadata": {},
   "outputs": [],
   "source": [
    "# Reduce with RNN (LSTM)\n",
    "answer = LSTM(32)(answer)  # (samples, 32)"
   ]
  },
  {
   "cell_type": "code",
   "execution_count": 105,
   "metadata": {},
   "outputs": [],
   "source": [
    "# Regularization with Dropout\n",
    "answer = Dropout(0.5)(answer)\n",
    "answer = Dense(vocab_size)(answer)  # (samples, vocab_size)"
   ]
  },
  {
   "cell_type": "code",
   "execution_count": 106,
   "metadata": {},
   "outputs": [],
   "source": [
    "# we output a probability distribution over the vocabulary\n",
    "answer = Activation('softmax')(answer)\n",
    "\n",
    "# build the final model\n",
    "model = Model([input_sequence, question], answer)\n",
    "model.compile(optimizer='rmsprop', loss='categorical_crossentropy',\n",
    "              metrics=['accuracy'])"
   ]
  },
  {
   "cell_type": "code",
   "execution_count": 107,
   "metadata": {},
   "outputs": [
    {
     "name": "stdout",
     "output_type": "stream",
     "text": [
      "Model: \"model_2\"\n",
      "__________________________________________________________________________________________________\n",
      "Layer (type)                    Output Shape         Param #     Connected to                     \n",
      "==================================================================================================\n",
      "input_3 (InputLayer)            (None, 156)          0                                            \n",
      "__________________________________________________________________________________________________\n",
      "input_4 (InputLayer)            (None, 6)            0                                            \n",
      "__________________________________________________________________________________________________\n",
      "sequential_4 (Sequential)       multiple             2432        input_3[0][0]                    \n",
      "__________________________________________________________________________________________________\n",
      "sequential_6 (Sequential)       (None, 6, 64)        2432        input_4[0][0]                    \n",
      "__________________________________________________________________________________________________\n",
      "dot_2 (Dot)                     (None, 156, 6)       0           sequential_4[1][0]               \n",
      "                                                                 sequential_6[1][0]               \n",
      "__________________________________________________________________________________________________\n",
      "activation_3 (Activation)       (None, 156, 6)       0           dot_2[0][0]                      \n",
      "__________________________________________________________________________________________________\n",
      "sequential_5 (Sequential)       multiple             228         input_3[0][0]                    \n",
      "__________________________________________________________________________________________________\n",
      "add_2 (Add)                     (None, 156, 6)       0           activation_3[0][0]               \n",
      "                                                                 sequential_5[1][0]               \n",
      "__________________________________________________________________________________________________\n",
      "permute_2 (Permute)             (None, 6, 156)       0           add_2[0][0]                      \n",
      "__________________________________________________________________________________________________\n",
      "concatenate_2 (Concatenate)     (None, 6, 220)       0           permute_2[0][0]                  \n",
      "                                                                 sequential_6[1][0]               \n",
      "__________________________________________________________________________________________________\n",
      "lstm_2 (LSTM)                   (None, 32)           32384       concatenate_2[0][0]              \n",
      "__________________________________________________________________________________________________\n",
      "dropout_8 (Dropout)             (None, 32)           0           lstm_2[0][0]                     \n",
      "__________________________________________________________________________________________________\n",
      "dense_2 (Dense)                 (None, 38)           1254        dropout_8[0][0]                  \n",
      "__________________________________________________________________________________________________\n",
      "activation_4 (Activation)       (None, 38)           0           dense_2[0][0]                    \n",
      "==================================================================================================\n",
      "Total params: 38,730\n",
      "Trainable params: 38,730\n",
      "Non-trainable params: 0\n",
      "__________________________________________________________________________________________________\n"
     ]
    }
   ],
   "source": [
    "model.summary()"
   ]
  },
  {
   "cell_type": "code",
   "execution_count": 108,
   "metadata": {},
   "outputs": [
    {
     "name": "stdout",
     "output_type": "stream",
     "text": [
      "WARNING:tensorflow:From C:\\Users\\s2977388\\Anaconda3\\envs\\nlp_course\\lib\\site-packages\\tensorflow\\python\\ops\\math_ops.py:3066: to_int32 (from tensorflow.python.ops.math_ops) is deprecated and will be removed in a future version.\n",
      "Instructions for updating:\n",
      "Use tf.cast instead.\n",
      "WARNING:tensorflow:From C:\\Users\\s2977388\\Anaconda3\\envs\\nlp_course\\lib\\site-packages\\tensorflow\\python\\ops\\math_grad.py:102: div (from tensorflow.python.ops.math_ops) is deprecated and will be removed in a future version.\n",
      "Instructions for updating:\n",
      "Deprecated in favor of operator or tf.math.divide.\n",
      "Train on 10000 samples, validate on 1000 samples\n",
      "Epoch 1/120\n",
      "10000/10000 [==============================] - 3s 317us/step - loss: 0.9120 - accuracy: 0.4874 - val_loss: 0.6948 - val_accuracy: 0.5030\n",
      "Epoch 2/120\n",
      "10000/10000 [==============================] - 2s 219us/step - loss: 0.7044 - accuracy: 0.4979 - val_loss: 0.6934 - val_accuracy: 0.4970\n",
      "Epoch 3/120\n",
      "10000/10000 [==============================] - 2s 217us/step - loss: 0.6964 - accuracy: 0.4971 - val_loss: 0.6941 - val_accuracy: 0.5030\n",
      "Epoch 4/120\n",
      "10000/10000 [==============================] - 2s 218us/step - loss: 0.6958 - accuracy: 0.4955 - val_loss: 0.6938 - val_accuracy: 0.4970\n",
      "Epoch 5/120\n",
      "10000/10000 [==============================] - 2s 217us/step - loss: 0.6945 - accuracy: 0.5016 - val_loss: 0.6933 - val_accuracy: 0.4970\n",
      "Epoch 6/120\n",
      "10000/10000 [==============================] - 2s 219us/step - loss: 0.6946 - accuracy: 0.4955 - val_loss: 0.6943 - val_accuracy: 0.5030\n",
      "Epoch 7/120\n",
      "10000/10000 [==============================] - 2s 228us/step - loss: 0.6944 - accuracy: 0.4989 - val_loss: 0.6932 - val_accuracy: 0.4970\n",
      "Epoch 8/120\n",
      "10000/10000 [==============================] - 2s 221us/step - loss: 0.6944 - accuracy: 0.5041 - val_loss: 0.6932 - val_accuracy: 0.5000\n",
      "Epoch 9/120\n",
      "10000/10000 [==============================] - 2s 218us/step - loss: 0.6946 - accuracy: 0.4933 - val_loss: 0.6935 - val_accuracy: 0.4970\n",
      "Epoch 10/120\n",
      "10000/10000 [==============================] - 2s 215us/step - loss: 0.6941 - accuracy: 0.4996 - val_loss: 0.6935 - val_accuracy: 0.4980\n",
      "Epoch 11/120\n",
      "10000/10000 [==============================] - 2s 220us/step - loss: 0.6940 - accuracy: 0.5067 - val_loss: 0.6945 - val_accuracy: 0.4930\n",
      "Epoch 12/120\n",
      "10000/10000 [==============================] - 4s 364us/step - loss: 0.6937 - accuracy: 0.5060 - val_loss: 0.6956 - val_accuracy: 0.5030\n",
      "Epoch 13/120\n",
      "10000/10000 [==============================] - 3s 346us/step - loss: 0.6934 - accuracy: 0.5051 - val_loss: 0.6944 - val_accuracy: 0.4820\n",
      "Epoch 14/120\n",
      "10000/10000 [==============================] - 3s 302us/step - loss: 0.6924 - accuracy: 0.5141 - val_loss: 0.6948 - val_accuracy: 0.5080\n",
      "Epoch 15/120\n",
      "10000/10000 [==============================] - 3s 277us/step - loss: 0.6911 - accuracy: 0.5281 - val_loss: 0.6947 - val_accuracy: 0.5010\n",
      "Epoch 16/120\n",
      "10000/10000 [==============================] - 3s 263us/step - loss: 0.6893 - accuracy: 0.5315 - val_loss: 0.6904 - val_accuracy: 0.5280\n",
      "Epoch 17/120\n",
      "10000/10000 [==============================] - 2s 249us/step - loss: 0.6639 - accuracy: 0.5903 - val_loss: 0.6175 - val_accuracy: 0.6770\n",
      "Epoch 18/120\n",
      "10000/10000 [==============================] - 2s 242us/step - loss: 0.5622 - accuracy: 0.7220 - val_loss: 0.4816 - val_accuracy: 0.7650\n",
      "Epoch 19/120\n",
      "10000/10000 [==============================] - 2s 238us/step - loss: 0.4735 - accuracy: 0.7899 - val_loss: 0.4580 - val_accuracy: 0.7780\n",
      "Epoch 20/120\n",
      "10000/10000 [==============================] - 2s 233us/step - loss: 0.4410 - accuracy: 0.8099 - val_loss: 0.4070 - val_accuracy: 0.8190\n",
      "Epoch 21/120\n",
      "10000/10000 [==============================] - 2s 228us/step - loss: 0.4129 - accuracy: 0.8294 - val_loss: 0.4033 - val_accuracy: 0.8170\n",
      "Epoch 22/120\n",
      "10000/10000 [==============================] - 2s 224us/step - loss: 0.3937 - accuracy: 0.8366 - val_loss: 0.3985 - val_accuracy: 0.8190\n",
      "Epoch 23/120\n",
      "10000/10000 [==============================] - 2s 222us/step - loss: 0.3814 - accuracy: 0.8419 - val_loss: 0.3965 - val_accuracy: 0.8310\n",
      "Epoch 24/120\n",
      "10000/10000 [==============================] - 2s 221us/step - loss: 0.3725 - accuracy: 0.8425 - val_loss: 0.3849 - val_accuracy: 0.8180\n",
      "Epoch 25/120\n",
      "10000/10000 [==============================] - 2s 222us/step - loss: 0.3650 - accuracy: 0.8494 - val_loss: 0.3864 - val_accuracy: 0.8270\n",
      "Epoch 26/120\n",
      "10000/10000 [==============================] - 2s 225us/step - loss: 0.3581 - accuracy: 0.8491 - val_loss: 0.3831 - val_accuracy: 0.8300\n",
      "Epoch 27/120\n",
      "10000/10000 [==============================] - 2s 225us/step - loss: 0.3484 - accuracy: 0.8563 - val_loss: 0.3863 - val_accuracy: 0.8350\n",
      "Epoch 28/120\n",
      "10000/10000 [==============================] - 2s 222us/step - loss: 0.3439 - accuracy: 0.8570 - val_loss: 0.3869 - val_accuracy: 0.8370\n",
      "Epoch 29/120\n",
      "10000/10000 [==============================] - 2s 226us/step - loss: 0.3400 - accuracy: 0.8569 - val_loss: 0.3869 - val_accuracy: 0.8380\n",
      "Epoch 30/120\n",
      "10000/10000 [==============================] - 2s 224us/step - loss: 0.3354 - accuracy: 0.8575 - val_loss: 0.3770 - val_accuracy: 0.8250\n",
      "Epoch 31/120\n",
      "10000/10000 [==============================] - 2s 226us/step - loss: 0.3245 - accuracy: 0.8641 - val_loss: 0.3790 - val_accuracy: 0.8400\n",
      "Epoch 32/120\n",
      "10000/10000 [==============================] - 2s 228us/step - loss: 0.3252 - accuracy: 0.8611 - val_loss: 0.3597 - val_accuracy: 0.8310\n",
      "Epoch 33/120\n",
      "10000/10000 [==============================] - 2s 229us/step - loss: 0.3277 - accuracy: 0.8557 - val_loss: 0.3639 - val_accuracy: 0.8330\n",
      "Epoch 34/120\n",
      "10000/10000 [==============================] - 2s 225us/step - loss: 0.3205 - accuracy: 0.8644 - val_loss: 0.3630 - val_accuracy: 0.8330\n",
      "Epoch 35/120\n",
      "10000/10000 [==============================] - 2s 224us/step - loss: 0.3180 - accuracy: 0.8633 - val_loss: 0.3621 - val_accuracy: 0.8300\n",
      "Epoch 36/120\n",
      "10000/10000 [==============================] - 2s 226us/step - loss: 0.3136 - accuracy: 0.8641 - val_loss: 0.3780 - val_accuracy: 0.8280\n",
      "Epoch 37/120\n",
      "10000/10000 [==============================] - 2s 224us/step - loss: 0.3127 - accuracy: 0.8681 - val_loss: 0.3633 - val_accuracy: 0.8380\n",
      "Epoch 38/120\n",
      "10000/10000 [==============================] - 2s 228us/step - loss: 0.3118 - accuracy: 0.8650 - val_loss: 0.3542 - val_accuracy: 0.8360\n",
      "Epoch 39/120\n",
      "10000/10000 [==============================] - 2s 225us/step - loss: 0.3088 - accuracy: 0.8648 - val_loss: 0.3699 - val_accuracy: 0.8290\n",
      "Epoch 40/120\n",
      "10000/10000 [==============================] - 2s 224us/step - loss: 0.3026 - accuracy: 0.8690 - val_loss: 0.3605 - val_accuracy: 0.8350\n",
      "Epoch 41/120\n",
      "10000/10000 [==============================] - 2s 224us/step - loss: 0.3073 - accuracy: 0.8678 - val_loss: 0.3605 - val_accuracy: 0.8310\n",
      "Epoch 42/120\n",
      "10000/10000 [==============================] - 2s 224us/step - loss: 0.3028 - accuracy: 0.8673 - val_loss: 0.3703 - val_accuracy: 0.8350\n",
      "Epoch 43/120\n",
      "10000/10000 [==============================] - 2s 226us/step - loss: 0.3001 - accuracy: 0.8682 - val_loss: 0.3642 - val_accuracy: 0.8390\n",
      "Epoch 44/120\n",
      "10000/10000 [==============================] - 2s 224us/step - loss: 0.2983 - accuracy: 0.8711 - val_loss: 0.3571 - val_accuracy: 0.8330\n",
      "Epoch 45/120\n",
      "10000/10000 [==============================] - 2s 227us/step - loss: 0.2991 - accuracy: 0.8684 - val_loss: 0.3694 - val_accuracy: 0.8300\n",
      "Epoch 46/120\n",
      "10000/10000 [==============================] - 2s 224us/step - loss: 0.2977 - accuracy: 0.8731 - val_loss: 0.3753 - val_accuracy: 0.8350\n",
      "Epoch 47/120\n",
      "10000/10000 [==============================] - 2s 225us/step - loss: 0.2904 - accuracy: 0.8750 - val_loss: 0.3737 - val_accuracy: 0.8310\n",
      "Epoch 48/120\n",
      "10000/10000 [==============================] - 2s 223us/step - loss: 0.2889 - accuracy: 0.8717 - val_loss: 0.3767 - val_accuracy: 0.8360\n",
      "Epoch 49/120\n",
      "10000/10000 [==============================] - 2s 224us/step - loss: 0.2896 - accuracy: 0.8733 - val_loss: 0.3621 - val_accuracy: 0.8340\n",
      "Epoch 50/120\n",
      "10000/10000 [==============================] - 2s 225us/step - loss: 0.2862 - accuracy: 0.8746 - val_loss: 0.3710 - val_accuracy: 0.8380\n",
      "Epoch 51/120\n",
      "10000/10000 [==============================] - 2s 225us/step - loss: 0.2853 - accuracy: 0.8766 - val_loss: 0.3674 - val_accuracy: 0.8310\n",
      "Epoch 52/120\n",
      "10000/10000 [==============================] - 2s 224us/step - loss: 0.2887 - accuracy: 0.8753 - val_loss: 0.3717 - val_accuracy: 0.8350\n",
      "Epoch 53/120\n",
      "10000/10000 [==============================] - 2s 225us/step - loss: 0.2830 - accuracy: 0.8772 - val_loss: 0.3741 - val_accuracy: 0.8400\n",
      "Epoch 54/120\n",
      "10000/10000 [==============================] - 2s 223us/step - loss: 0.2822 - accuracy: 0.8787 - val_loss: 0.3819 - val_accuracy: 0.8280\n",
      "Epoch 55/120\n",
      "10000/10000 [==============================] - 2s 224us/step - loss: 0.2782 - accuracy: 0.8770 - val_loss: 0.3713 - val_accuracy: 0.8320\n",
      "Epoch 56/120\n",
      "10000/10000 [==============================] - 2s 225us/step - loss: 0.2754 - accuracy: 0.8789 - val_loss: 0.3913 - val_accuracy: 0.8270\n",
      "Epoch 57/120\n",
      "10000/10000 [==============================] - 2s 226us/step - loss: 0.2785 - accuracy: 0.8795 - val_loss: 0.3700 - val_accuracy: 0.8290\n",
      "Epoch 58/120\n",
      "10000/10000 [==============================] - 2s 223us/step - loss: 0.2708 - accuracy: 0.8833 - val_loss: 0.4030 - val_accuracy: 0.8240\n",
      "Epoch 59/120\n",
      "10000/10000 [==============================] - 2s 229us/step - loss: 0.2733 - accuracy: 0.8833 - val_loss: 0.4129 - val_accuracy: 0.8240\n",
      "Epoch 60/120\n",
      "10000/10000 [==============================] - 2s 223us/step - loss: 0.2769 - accuracy: 0.8828 - val_loss: 0.3912 - val_accuracy: 0.8280\n",
      "Epoch 61/120\n",
      "10000/10000 [==============================] - 2s 223us/step - loss: 0.2683 - accuracy: 0.8839 - val_loss: 0.3710 - val_accuracy: 0.8320\n",
      "Epoch 62/120\n",
      "10000/10000 [==============================] - 2s 224us/step - loss: 0.2695 - accuracy: 0.8816 - val_loss: 0.3678 - val_accuracy: 0.8300\n",
      "Epoch 63/120\n",
      "10000/10000 [==============================] - 2s 227us/step - loss: 0.2590 - accuracy: 0.8861 - val_loss: 0.4018 - val_accuracy: 0.8270\n",
      "Epoch 64/120\n",
      "10000/10000 [==============================] - 2s 225us/step - loss: 0.2655 - accuracy: 0.8864 - val_loss: 0.3776 - val_accuracy: 0.8300\n",
      "Epoch 65/120\n",
      "10000/10000 [==============================] - 2s 229us/step - loss: 0.2623 - accuracy: 0.8862 - val_loss: 0.4041 - val_accuracy: 0.8270\n",
      "Epoch 66/120\n",
      "10000/10000 [==============================] - 2s 225us/step - loss: 0.2603 - accuracy: 0.8876 - val_loss: 0.4017 - val_accuracy: 0.8340\n",
      "Epoch 67/120\n",
      "10000/10000 [==============================] - 2s 225us/step - loss: 0.2568 - accuracy: 0.8914 - val_loss: 0.3792 - val_accuracy: 0.8290\n",
      "Epoch 68/120\n",
      "10000/10000 [==============================] - 2s 224us/step - loss: 0.2611 - accuracy: 0.8849 - val_loss: 0.3839 - val_accuracy: 0.8270\n",
      "Epoch 69/120\n",
      "10000/10000 [==============================] - 2s 224us/step - loss: 0.2563 - accuracy: 0.8928 - val_loss: 0.3908 - val_accuracy: 0.8290\n",
      "Epoch 70/120\n",
      "10000/10000 [==============================] - 2s 226us/step - loss: 0.2580 - accuracy: 0.8891 - val_loss: 0.4146 - val_accuracy: 0.8380\n",
      "Epoch 71/120\n",
      "10000/10000 [==============================] - 2s 232us/step - loss: 0.2598 - accuracy: 0.8913 - val_loss: 0.4116 - val_accuracy: 0.8340\n",
      "Epoch 72/120\n",
      "10000/10000 [==============================] - 2s 226us/step - loss: 0.2566 - accuracy: 0.8889 - val_loss: 0.4122 - val_accuracy: 0.8300\n",
      "Epoch 73/120\n",
      "10000/10000 [==============================] - 2s 225us/step - loss: 0.2509 - accuracy: 0.8940 - val_loss: 0.4043 - val_accuracy: 0.8290\n",
      "Epoch 74/120\n",
      "10000/10000 [==============================] - 2s 224us/step - loss: 0.2565 - accuracy: 0.8896 - val_loss: 0.3943 - val_accuracy: 0.8250\n",
      "Epoch 75/120\n",
      "10000/10000 [==============================] - 2s 226us/step - loss: 0.2482 - accuracy: 0.8936 - val_loss: 0.3999 - val_accuracy: 0.8250\n",
      "Epoch 76/120\n",
      "10000/10000 [==============================] - 2s 223us/step - loss: 0.2449 - accuracy: 0.8955 - val_loss: 0.4357 - val_accuracy: 0.8240\n",
      "Epoch 77/120\n",
      "10000/10000 [==============================] - 2s 225us/step - loss: 0.2397 - accuracy: 0.8953 - val_loss: 0.4462 - val_accuracy: 0.8280\n",
      "Epoch 78/120\n",
      "10000/10000 [==============================] - 2s 225us/step - loss: 0.2400 - accuracy: 0.8972 - val_loss: 0.4136 - val_accuracy: 0.8330\n",
      "Epoch 79/120\n",
      "10000/10000 [==============================] - 2s 223us/step - loss: 0.2418 - accuracy: 0.8968 - val_loss: 0.4774 - val_accuracy: 0.8250\n",
      "Epoch 80/120\n",
      "10000/10000 [==============================] - 2s 225us/step - loss: 0.2403 - accuracy: 0.8968 - val_loss: 0.4671 - val_accuracy: 0.8230\n",
      "Epoch 81/120\n",
      "10000/10000 [==============================] - 2s 225us/step - loss: 0.2406 - accuracy: 0.8956 - val_loss: 0.4342 - val_accuracy: 0.8260\n",
      "Epoch 82/120\n",
      "10000/10000 [==============================] - 2s 226us/step - loss: 0.2342 - accuracy: 0.8996 - val_loss: 0.4359 - val_accuracy: 0.8220\n",
      "Epoch 83/120\n",
      "10000/10000 [==============================] - 2s 226us/step - loss: 0.2305 - accuracy: 0.9020 - val_loss: 0.4365 - val_accuracy: 0.8280\n",
      "Epoch 84/120\n",
      "10000/10000 [==============================] - 2s 228us/step - loss: 0.2377 - accuracy: 0.9019 - val_loss: 0.4507 - val_accuracy: 0.8270\n",
      "Epoch 85/120\n",
      "10000/10000 [==============================] - 2s 227us/step - loss: 0.2313 - accuracy: 0.9021 - val_loss: 0.4614 - val_accuracy: 0.8210\n",
      "Epoch 86/120\n",
      "10000/10000 [==============================] - 2s 233us/step - loss: 0.2303 - accuracy: 0.9020 - val_loss: 0.4570 - val_accuracy: 0.8260\n",
      "Epoch 87/120\n",
      "10000/10000 [==============================] - 2s 227us/step - loss: 0.2269 - accuracy: 0.9046 - val_loss: 0.4438 - val_accuracy: 0.8270\n",
      "Epoch 88/120\n",
      "10000/10000 [==============================] - 2s 227us/step - loss: 0.2237 - accuracy: 0.9041 - val_loss: 0.4306 - val_accuracy: 0.8310\n",
      "Epoch 89/120\n",
      "10000/10000 [==============================] - 2s 229us/step - loss: 0.2276 - accuracy: 0.9039 - val_loss: 0.4505 - val_accuracy: 0.8300\n",
      "Epoch 90/120\n",
      "10000/10000 [==============================] - 2s 224us/step - loss: 0.2218 - accuracy: 0.9051 - val_loss: 0.4942 - val_accuracy: 0.8350\n",
      "Epoch 91/120\n",
      "10000/10000 [==============================] - 2s 227us/step - loss: 0.2201 - accuracy: 0.9060 - val_loss: 0.4855 - val_accuracy: 0.8420\n",
      "Epoch 92/120\n",
      "10000/10000 [==============================] - 2s 231us/step - loss: 0.2250 - accuracy: 0.9065 - val_loss: 0.4916 - val_accuracy: 0.8250\n",
      "Epoch 93/120\n",
      "10000/10000 [==============================] - 2s 227us/step - loss: 0.2195 - accuracy: 0.9076 - val_loss: 0.4900 - val_accuracy: 0.8330\n",
      "Epoch 94/120\n",
      "10000/10000 [==============================] - 2s 228us/step - loss: 0.2220 - accuracy: 0.9039 - val_loss: 0.4346 - val_accuracy: 0.8320\n",
      "Epoch 95/120\n",
      "10000/10000 [==============================] - 2s 231us/step - loss: 0.2219 - accuracy: 0.9072 - val_loss: 0.4806 - val_accuracy: 0.8240\n",
      "Epoch 96/120\n",
      "10000/10000 [==============================] - 2s 229us/step - loss: 0.2181 - accuracy: 0.9068 - val_loss: 0.4795 - val_accuracy: 0.8360\n",
      "Epoch 97/120\n",
      "10000/10000 [==============================] - 2s 228us/step - loss: 0.2136 - accuracy: 0.9102 - val_loss: 0.5008 - val_accuracy: 0.8260\n",
      "Epoch 98/120\n",
      "10000/10000 [==============================] - 2s 227us/step - loss: 0.2139 - accuracy: 0.9072 - val_loss: 0.4904 - val_accuracy: 0.8250\n",
      "Epoch 99/120\n",
      "10000/10000 [==============================] - 2s 227us/step - loss: 0.2136 - accuracy: 0.9098 - val_loss: 0.4876 - val_accuracy: 0.8220\n",
      "Epoch 100/120\n",
      "10000/10000 [==============================] - 2s 227us/step - loss: 0.2171 - accuracy: 0.9080 - val_loss: 0.4851 - val_accuracy: 0.8310\n",
      "Epoch 101/120\n",
      "10000/10000 [==============================] - 2s 230us/step - loss: 0.2120 - accuracy: 0.9083 - val_loss: 0.4810 - val_accuracy: 0.8320\n",
      "Epoch 102/120\n",
      "10000/10000 [==============================] - 2s 227us/step - loss: 0.2098 - accuracy: 0.9113 - val_loss: 0.4742 - val_accuracy: 0.8360\n",
      "Epoch 103/120\n",
      "10000/10000 [==============================] - 2s 229us/step - loss: 0.2049 - accuracy: 0.9156 - val_loss: 0.5295 - val_accuracy: 0.8380\n",
      "Epoch 104/120\n",
      "10000/10000 [==============================] - 2s 227us/step - loss: 0.2051 - accuracy: 0.9134 - val_loss: 0.4956 - val_accuracy: 0.8380\n",
      "Epoch 105/120\n"
     ]
    },
    {
     "name": "stdout",
     "output_type": "stream",
     "text": [
      "10000/10000 [==============================] - 2s 225us/step - loss: 0.2074 - accuracy: 0.9140 - val_loss: 0.5072 - val_accuracy: 0.8380\n",
      "Epoch 106/120\n",
      "10000/10000 [==============================] - 2s 231us/step - loss: 0.2014 - accuracy: 0.9143 - val_loss: 0.5050 - val_accuracy: 0.8360\n",
      "Epoch 107/120\n",
      "10000/10000 [==============================] - 2s 225us/step - loss: 0.2045 - accuracy: 0.9156 - val_loss: 0.5513 - val_accuracy: 0.8290\n",
      "Epoch 108/120\n",
      "10000/10000 [==============================] - 2s 225us/step - loss: 0.2032 - accuracy: 0.9161 - val_loss: 0.4999 - val_accuracy: 0.8290\n",
      "Epoch 109/120\n",
      "10000/10000 [==============================] - 2s 223us/step - loss: 0.2022 - accuracy: 0.9162 - val_loss: 0.5123 - val_accuracy: 0.8310\n",
      "Epoch 110/120\n",
      "10000/10000 [==============================] - 2s 224us/step - loss: 0.2014 - accuracy: 0.9142 - val_loss: 0.5399 - val_accuracy: 0.8240\n",
      "Epoch 111/120\n",
      "10000/10000 [==============================] - 2s 225us/step - loss: 0.2070 - accuracy: 0.9113 - val_loss: 0.5072 - val_accuracy: 0.8250\n",
      "Epoch 112/120\n",
      "10000/10000 [==============================] - 2s 228us/step - loss: 0.2048 - accuracy: 0.9146 - val_loss: 0.5026 - val_accuracy: 0.8310\n",
      "Epoch 113/120\n",
      "10000/10000 [==============================] - 2s 226us/step - loss: 0.2004 - accuracy: 0.9194 - val_loss: 0.5394 - val_accuracy: 0.8270\n",
      "Epoch 114/120\n",
      "10000/10000 [==============================] - 2s 224us/step - loss: 0.2025 - accuracy: 0.9156 - val_loss: 0.5169 - val_accuracy: 0.8330\n",
      "Epoch 115/120\n",
      "10000/10000 [==============================] - 2s 224us/step - loss: 0.1973 - accuracy: 0.9192 - val_loss: 0.5534 - val_accuracy: 0.8350\n",
      "Epoch 116/120\n",
      "10000/10000 [==============================] - 2s 225us/step - loss: 0.2014 - accuracy: 0.9171 - val_loss: 0.4714 - val_accuracy: 0.8390\n",
      "Epoch 117/120\n",
      "10000/10000 [==============================] - 2s 224us/step - loss: 0.1963 - accuracy: 0.9178 - val_loss: 0.5428 - val_accuracy: 0.8260\n",
      "Epoch 118/120\n",
      "10000/10000 [==============================] - 2s 232us/step - loss: 0.1929 - accuracy: 0.9198 - val_loss: 0.5666 - val_accuracy: 0.8330\n",
      "Epoch 119/120\n",
      "10000/10000 [==============================] - 2s 228us/step - loss: 0.1956 - accuracy: 0.9193 - val_loss: 0.5389 - val_accuracy: 0.8290\n",
      "Epoch 120/120\n",
      "10000/10000 [==============================] - 2s 225us/step - loss: 0.1884 - accuracy: 0.9207 - val_loss: 0.5330 - val_accuracy: 0.8340\n"
     ]
    }
   ],
   "source": [
    "# train\n",
    "history = model.fit([inputs_train, queries_train], answers_train,batch_size=32,epochs=120,validation_data=([inputs_test, queries_test], answers_test))"
   ]
  },
  {
   "cell_type": "markdown",
   "metadata": {},
   "source": [
    "### Saving the Model"
   ]
  },
  {
   "cell_type": "code",
   "execution_count": 109,
   "metadata": {},
   "outputs": [],
   "source": [
    "filename = 'chatbot_120_epochs.h5'\n",
    "model.save(filename)"
   ]
  },
  {
   "cell_type": "markdown",
   "metadata": {},
   "source": [
    "## Evaluating the Model\n",
    "\n",
    "### Plotting Out Training History"
   ]
  },
  {
   "cell_type": "code",
   "execution_count": 110,
   "metadata": {},
   "outputs": [
    {
     "name": "stdout",
     "output_type": "stream",
     "text": [
      "dict_keys(['val_loss', 'val_accuracy', 'loss', 'accuracy'])\n"
     ]
    },
    {
     "ename": "KeyError",
     "evalue": "'acc'",
     "output_type": "error",
     "traceback": [
      "\u001b[1;31m---------------------------------------------------------------------------\u001b[0m",
      "\u001b[1;31mKeyError\u001b[0m                                  Traceback (most recent call last)",
      "\u001b[1;32m<ipython-input-110-a7006ba03f78>\u001b[0m in \u001b[0;36m<module>\u001b[1;34m\u001b[0m\n\u001b[0;32m      3\u001b[0m \u001b[0mprint\u001b[0m\u001b[1;33m(\u001b[0m\u001b[0mhistory\u001b[0m\u001b[1;33m.\u001b[0m\u001b[0mhistory\u001b[0m\u001b[1;33m.\u001b[0m\u001b[0mkeys\u001b[0m\u001b[1;33m(\u001b[0m\u001b[1;33m)\u001b[0m\u001b[1;33m)\u001b[0m\u001b[1;33m\u001b[0m\u001b[1;33m\u001b[0m\u001b[0m\n\u001b[0;32m      4\u001b[0m \u001b[1;31m# summarize history for accuracy\u001b[0m\u001b[1;33m\u001b[0m\u001b[1;33m\u001b[0m\u001b[1;33m\u001b[0m\u001b[0m\n\u001b[1;32m----> 5\u001b[1;33m \u001b[0mplt\u001b[0m\u001b[1;33m.\u001b[0m\u001b[0mplot\u001b[0m\u001b[1;33m(\u001b[0m\u001b[0mhistory\u001b[0m\u001b[1;33m.\u001b[0m\u001b[0mhistory\u001b[0m\u001b[1;33m[\u001b[0m\u001b[1;34m'acc'\u001b[0m\u001b[1;33m]\u001b[0m\u001b[1;33m)\u001b[0m\u001b[1;33m\u001b[0m\u001b[1;33m\u001b[0m\u001b[0m\n\u001b[0m\u001b[0;32m      6\u001b[0m \u001b[0mplt\u001b[0m\u001b[1;33m.\u001b[0m\u001b[0mplot\u001b[0m\u001b[1;33m(\u001b[0m\u001b[0mhistory\u001b[0m\u001b[1;33m.\u001b[0m\u001b[0mhistory\u001b[0m\u001b[1;33m[\u001b[0m\u001b[1;34m'val_acc'\u001b[0m\u001b[1;33m]\u001b[0m\u001b[1;33m)\u001b[0m\u001b[1;33m\u001b[0m\u001b[1;33m\u001b[0m\u001b[0m\n\u001b[0;32m      7\u001b[0m \u001b[0mplt\u001b[0m\u001b[1;33m.\u001b[0m\u001b[0mtitle\u001b[0m\u001b[1;33m(\u001b[0m\u001b[1;34m'model accuracy'\u001b[0m\u001b[1;33m)\u001b[0m\u001b[1;33m\u001b[0m\u001b[1;33m\u001b[0m\u001b[0m\n",
      "\u001b[1;31mKeyError\u001b[0m: 'acc'"
     ]
    }
   ],
   "source": [
    "import matplotlib.pyplot as plt\n",
    "%matplotlib inline\n",
    "print(history.history.keys())\n",
    "# summarize history for accuracy\n",
    "plt.plot(history.history['acc'])\n",
    "plt.plot(history.history['val_acc'])\n",
    "plt.title('model accuracy')\n",
    "plt.ylabel('accuracy')\n",
    "plt.xlabel('epoch')\n",
    "plt.legend(['train', 'test'], loc='upper left')\n",
    "plt.show()"
   ]
  },
  {
   "cell_type": "markdown",
   "metadata": {},
   "source": [
    "### Evaluating on Given Test Set"
   ]
  },
  {
   "cell_type": "code",
   "execution_count": null,
   "metadata": {},
   "outputs": [],
   "source": [
    "model.load_weights(filename)\n",
    "pred_results = model.predict(([inputs_test, queries_test]))"
   ]
  },
  {
   "cell_type": "code",
   "execution_count": null,
   "metadata": {},
   "outputs": [],
   "source": [
    "test_data[0][0]"
   ]
  },
  {
   "cell_type": "code",
   "execution_count": null,
   "metadata": {},
   "outputs": [],
   "source": [
    "story =' '.join(word for word in test_data[0][0])\n",
    "print(story)"
   ]
  },
  {
   "cell_type": "code",
   "execution_count": null,
   "metadata": {},
   "outputs": [],
   "source": [
    "query = ' '.join(word for word in test_data[0][1])\n",
    "print(query)"
   ]
  },
  {
   "cell_type": "code",
   "execution_count": null,
   "metadata": {},
   "outputs": [],
   "source": [
    "print(\"True Test Answer from Data is:\",test_data[0][2])"
   ]
  },
  {
   "cell_type": "code",
   "execution_count": null,
   "metadata": {},
   "outputs": [],
   "source": [
    "#Generate prediction from model\n",
    "val_max = np.argmax(pred_results[0])\n",
    "\n",
    "for key, val in tokenizer.word_index.items():\n",
    "    if val == val_max:\n",
    "        k = key\n",
    "\n",
    "print(\"Predicted answer is: \", k)\n",
    "print(\"Probability of certainty was: \", pred_results[0][val_max])"
   ]
  },
  {
   "cell_type": "markdown",
   "metadata": {},
   "source": [
    "## Writing Your Own Stories and Questions\n",
    "\n",
    "Remember you can only use words from the existing vocab"
   ]
  },
  {
   "cell_type": "code",
   "execution_count": null,
   "metadata": {},
   "outputs": [],
   "source": [
    "vocab"
   ]
  },
  {
   "cell_type": "code",
   "execution_count": null,
   "metadata": {},
   "outputs": [],
   "source": [
    "# Note the whitespace of the periods\n",
    "my_story = \"John left the kitchen . Sandra dropped the football in the garden .\"\n",
    "my_story.split()"
   ]
  },
  {
   "cell_type": "code",
   "execution_count": null,
   "metadata": {},
   "outputs": [],
   "source": [
    "my_question = \"Is the football in the garden ?\""
   ]
  },
  {
   "cell_type": "code",
   "execution_count": null,
   "metadata": {},
   "outputs": [],
   "source": [
    "my_question.split()"
   ]
  },
  {
   "cell_type": "code",
   "execution_count": null,
   "metadata": {},
   "outputs": [],
   "source": [
    "mydata = [(my_story.split(),my_question.split(),'yes')]"
   ]
  },
  {
   "cell_type": "code",
   "execution_count": null,
   "metadata": {},
   "outputs": [],
   "source": [
    "my_story,my_ques,my_ans = vectorize_stories(mydata)"
   ]
  },
  {
   "cell_type": "code",
   "execution_count": null,
   "metadata": {},
   "outputs": [],
   "source": [
    "pred_results = model.predict(([ my_story, my_ques]))"
   ]
  },
  {
   "cell_type": "code",
   "execution_count": null,
   "metadata": {},
   "outputs": [],
   "source": [
    "#Generate prediction from model\n",
    "val_max = np.argmax(pred_results[0])\n",
    "\n",
    "for key, val in tokenizer.word_index.items():\n",
    "    if val == val_max:\n",
    "        k = key\n",
    "\n",
    "print(\"Predicted answer is: \", k)\n",
    "print(\"Probability of certainty was: \", pred_results[0][val_max])"
   ]
  },
  {
   "cell_type": "markdown",
   "metadata": {},
   "source": [
    "# Great Job!"
   ]
  }
 ],
 "metadata": {
  "kernelspec": {
   "display_name": "Python 3",
   "language": "python",
   "name": "python3"
  },
  "language_info": {
   "codemirror_mode": {
    "name": "ipython",
    "version": 3
   },
   "file_extension": ".py",
   "mimetype": "text/x-python",
   "name": "python",
   "nbconvert_exporter": "python",
   "pygments_lexer": "ipython3",
   "version": "3.8.5"
  }
 },
 "nbformat": 4,
 "nbformat_minor": 2
}
